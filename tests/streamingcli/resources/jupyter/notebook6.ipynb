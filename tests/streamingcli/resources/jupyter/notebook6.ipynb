{
 "cells": [
  {
   "cell_type": "code",
   "execution_count": null,
   "id": "d98a98ae",
   "metadata": {},
   "outputs": [],
   "source": [
    "%reload_ext streamingcli.jupyter.integrations"
   ]
  },
  {
   "cell_type": "code",
   "execution_count": null,
   "metadata": {},
   "outputs": [],
   "source": [
    "%load_secret_file -p secret.txt certificate"
   ]
  },
  {
   "cell_type": "code",
   "execution_count": null,
   "metadata": {},
   "outputs": [],
   "source": [
    "kafka_topic = 'example_topic'"
   ]
  },
  {
   "cell_type": "code",
   "execution_count": null,
   "metadata": {},
   "outputs": [],
   "source": [
    "%%flink_execute_sql\n",
    "CREATE TABLE kafka (\n",
    "    id INT\n",
    ") WITH (\n",
    "    'connector' = 'kafka',\n",
    "    'topic' = '{kafka_topic}',\n",
    "    'properties.bootstrap.servers' = 'localhost:9092',\n",
    "    'properties.security.protocol' = 'SSL',\n",
    "    'properties.group.id' = 'testGroup',\n",
    "    'scan.startup.mode' = 'earliest-offset',\n",
    "    'format' = 'json',\n",
    "    'properties.ssl.truststore.certificates' = '{certificate}',\n",
    "    'properties.ssl.truststore.type' = 'PEM'\n",
    ")"
   ]
  },
  {
   "cell_type": "code",
   "execution_count": null,
   "metadata": {},
   "outputs": [],
   "source": [
    "%%flink_execute_sql\n",
    "CREATE TABLE mysql (\n",
    "    id INT\n",
    ") WITH (\n",
    "    'connector' = 'jdbc',\n",
    "    'url' = 'jdbc:mysql://localhost:3306/mydatabase',\n",
    "    'table-name' = 'table_name',\n",
    "    'username' = 'username',\n",
    "    'password' = 'password'\n",
    ")"
   ]
  },
  {
   "cell_type": "code",
   "execution_count": null,
   "id": "f49d46fc",
   "metadata": {},
   "outputs": [],
   "source": [
    "%%flink_execute_sql\n",
    "INSERT INTO mysql (SELECT * FROM kafka)"
   ]
  }
 ],
 "metadata": {
  "kernelspec": {
   "display_name": "Python 3.8.9 ('venv': venv)",
   "language": "python",
   "name": "python3"
  },
  "language_info": {
   "name": "python",
   "version": "3.8.9"
  },
  "orig_nbformat": 4,
  "vscode": {
   "interpreter": {
    "hash": "f0cd6785ff6bc568ce2cc71d88a05068b5a6f398356addc2ac43c5f5a20c030b"
   }
  }
 },
 "nbformat": 4,
 "nbformat_minor": 2
}
