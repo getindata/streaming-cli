{
 "cells": [
  {
   "cell_type": "code",
   "execution_count": null,
   "id": "d98a98ae",
   "metadata": {},
   "outputs": [],
   "source": [
    "%reload_ext streamingcli.jupyter.integrations"
   ]
  },
  {
   "cell_type": "code",
   "execution_count": null,
   "metadata": {},
   "outputs": [],
   "source": [
    "mysql_table_name = 'datagen'"
   ]
  },
  {
   "cell_type": "code",
   "execution_count": null,
   "id": "c74db0bd",
   "metadata": {},
   "outputs": [],
   "source": [
    "%%flink_execute_sql\n",
    "CREATE TABLE datagen (\n",
    "    id INT\n",
    ") WITH (\n",
    "    'connector' = 'datagen',\n",
    "    'number-of-rows' = '${MY_ENV_VARIABLE}'\n",
    ")"
   ]
  },
  {
   "cell_type": "code",
   "execution_count": null,
   "metadata": {},
   "outputs": [],
   "source": [
    "%%flink_execute_sql\n",
    "CREATE TABLE mysql (\n",
    "    id INT\n",
    ") WITH (\n",
    "    'connector' = 'jdbc',\n",
    "    'url' = 'jdbc:mysql://localhost:3306/mydatabase',\n",
    "    'table-name' = '{mysql_table_name}',\n",
    "    'username' = '${MYSQL_USER}',\n",
    "    'password' = '${  MYSQL_PASSWORD }'\n",
    ")"
   ]
  },
  {
   "cell_type": "code",
   "execution_count": null,
   "id": "f49d46fc",
   "metadata": {},
   "outputs": [],
   "source": [
    "%%flink_execute_sql\n",
    "INSERT INTO mysql (SELECT * FROM datagen)"
   ]
  }
 ],
 "metadata": {
  "language_info": {
   "name": "python"
  },
  "orig_nbformat": 4
 },
 "nbformat": 4,
 "nbformat_minor": 2
}
