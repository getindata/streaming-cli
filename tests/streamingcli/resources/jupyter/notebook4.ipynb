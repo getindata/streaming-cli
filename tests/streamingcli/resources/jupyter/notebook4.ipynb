{
 "cells": [
  {
   "cell_type": "code",
   "execution_count": null,
   "id": "d98a98ae",
   "metadata": {},
   "outputs": [],
   "source": [
    "%reload_ext streamingcli.jupyter.integrations"
   ]
  },
  {
   "cell_type": "code",
   "execution_count": null,
   "outputs": [],
   "source": [
    "%flink_execute_sql_file --path ./init.sql"
   ],
   "metadata": {
    "collapsed": false,
    "pycharm": {
     "name": "#%%\n"
    }
   }
  },
  {
   "cell_type": "code",
   "execution_count": null,
   "outputs": [],
   "source": [
    "%flink_execute_sql_file -p ./other.sql"
   ],
   "metadata": {
    "collapsed": false,
    "pycharm": {
     "name": "#%%\n"
    }
   }
  }
 ],
 "metadata": {
  "celltoolbar": "Tags",
  "interpreter": {
   "hash": "5e298b3215ee7f4e95b1172e93deec786f1c8a888c2b24d9520fb978679fd487"
  },
  "kernelspec": {
   "display_name": "Python 3.8.12 64-bit ('streaming-cli-hvmTKS2Y': pipenv)",
   "language": "python",
   "name": "python3812jvsc74a57bd05e298b3215ee7f4e95b1172e93deec786f1c8a888c2b24d9520fb978679fd487"
  },
  "language_info": {
   "codemirror_mode": {
    "name": "ipython",
    "version": 3
   },
   "file_extension": ".py",
   "mimetype": "text/x-python",
   "name": "python",
   "nbconvert_exporter": "python",
   "pygments_lexer": "ipython3",
   "version": "3.8.12"
  }
 },
 "nbformat": 4,
 "nbformat_minor": 5
}