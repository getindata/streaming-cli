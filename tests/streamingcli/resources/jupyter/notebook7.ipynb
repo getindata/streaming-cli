{
 "cells": [
  {
   "cell_type": "code",
   "execution_count": null,
   "id": "64df3a88",
   "metadata": {},
   "outputs": [],
   "source": [
    "%reload_ext streamingcli.jupyter.integrations"
   ]
  },
  {
   "cell_type": "code",
   "execution_count": null,
   "id": "df107019",
   "metadata": {},
   "outputs": [],
   "source": [
    "%%flink_execute\n",
    "from pyflink.common.typeinfo import Types\n",
    "execution_output = stream_env.from_collection(\n",
    "    collection=[(1, 'aaa'), (2, 'bb'), (3, 'cccc')],\n",
    "    type_info=Types.ROW([Types.INT(), Types.STRING()])\n",
    ")"
   ]
  }
 ],
 "metadata": {
  "kernelspec": {
   "display_name": "Python 3 (ipykernel)",
   "language": "python",
   "name": "python3"
  },
  "language_info": {
   "codemirror_mode": {
    "name": "ipython",
    "version": 3
   },
   "file_extension": ".py",
   "mimetype": "text/x-python",
   "name": "python",
   "nbconvert_exporter": "python",
   "pygments_lexer": "ipython3",
   "version": "3.8.3"
  }
 },
 "nbformat": 4,
 "nbformat_minor": 5
}