{
 "cells": [
  {
   "cell_type": "code",
   "execution_count": null,
   "id": "54f73d65-6a88-44dd-b9a4-13b2c74db149",
   "metadata": {},
   "outputs": [],
   "source": [
    "%reload_ext streaming_jupyter_integrations.magics"
   ]
  },
  {
   "cell_type": "code",
   "execution_count": null,
   "id": "1c069da8-8bf9-434a-8528-0f0e90f8f668",
   "metadata": {},
   "outputs": [],
   "source": [
    "%flink_connect"
   ]
  },
  {
   "cell_type": "code",
   "execution_count": null,
   "id": "51f6f1bf-a895-44ec-ac42-c4cc3891b28b",
   "metadata": {},
   "outputs": [],
   "source": [
    "%%flink_execute_sql\n",
    "CREATE TABLE source1 (\n",
    " num INT\n",
    ") WITH (\n",
    "    'connector' = 'datagen'\n",
    ")"
   ]
  },
  {
   "cell_type": "code",
   "execution_count": null,
   "id": "68ddbed1-51c2-4201-894c-446f8aa8add9",
   "metadata": {},
   "outputs": [],
   "source": [
    "%%flink_execute_sql\n",
    "CREATE TABLE source2 (\n",
    " num INT\n",
    ") WITH (\n",
    "    'connector' = 'datagen'\n",
    ")"
   ]
  },
  {
   "cell_type": "code",
   "execution_count": null,
   "id": "ae5adc0e-0ca3-48e6-b8d0-61ce6fbc81c9",
   "metadata": {},
   "outputs": [],
   "source": [
    "%%flink_execute_sql\n",
    "CREATE TABLE sink (\n",
    " num INT\n",
    ") WITH (\n",
    "    'connector' = 'blackhole'\n",
    ")"
   ]
  },
  {
   "cell_type": "code",
   "execution_count": null,
   "id": "35438924-55b2-4ab3-abc8-4a981be480a6",
   "metadata": {},
   "outputs": [],
   "source": [
    "%%flink_execute_sql_set\n",
    "INSERT INTO sink SELECT * FROM source1;\n",
    "INSERT INTO sink SELECT * FROM source2;"
   ]
  },
  {
   "cell_type": "code",
   "execution_count": null,
   "id": "3996e15b-0824-453a-ab42-ec465b5b49ab",
   "metadata": {},
   "outputs": [],
   "source": []
  }
 ],
 "metadata": {
  "kernelspec": {
   "display_name": "Python 3 (ipykernel)",
   "language": "python",
   "name": "python3"
  },
  "language_info": {
   "codemirror_mode": {
    "name": "ipython",
    "version": 3
   },
   "file_extension": ".py",
   "mimetype": "text/x-python",
   "name": "python",
   "nbconvert_exporter": "python",
   "pygments_lexer": "ipython3",
   "version": "3.8.15"
  }
 },
 "nbformat": 4,
 "nbformat_minor": 5
}
