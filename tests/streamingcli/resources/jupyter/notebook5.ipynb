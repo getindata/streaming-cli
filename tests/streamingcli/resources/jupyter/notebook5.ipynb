{
 "cells": [
  {
   "cell_type": "code",
   "execution_count": null,
   "id": "c4de90db",
   "metadata": {},
   "outputs": [],
   "source": [
    "%reload_ext streamingcli.jupyter.integrations"
   ]
  },
  {
   "cell_type": "code",
   "execution_count": null,
   "id": "2b2819ce",
   "metadata": {},
   "outputs": [],
   "source": [
    "%%flink_execute_sql\n",
    "CREATE TABLE datagen (\n",
    "    id INT\n",
    ") WITH (\n",
    "    'connector' = 'datagen',\n",
    "    'number-of-rows' = '100'\n",
    ")"
   ]
  },
  {
   "cell_type": "code",
   "execution_count": null,
   "id": "9f3f3088",
   "metadata": {},
   "outputs": [],
   "source": [
    "%%flink_execute_sql\n",
    "show tables"
   ]
  },
  {
   "cell_type": "code",
   "execution_count": null,
   "id": "b0df47d7",
   "metadata": {},
   "outputs": [],
   "source": [
    "%%flink_execute_sql\n",
    "describe datagen"
   ]
  },
  {
   "cell_type": "code",
   "execution_count": null,
   "id": "d295b3b6",
   "metadata": {},
   "outputs": [],
   "source": [
    "%%flink_execute_sql\n",
    "select * from datagen"
   ]
  }
 ],
 "metadata": {
  "kernelspec": {
   "display_name": "Python 3 (ipykernel)",
   "language": "python",
   "name": "python3"
  },
  "language_info": {
   "codemirror_mode": {
    "name": "ipython",
    "version": 3
   },
   "file_extension": ".py",
   "mimetype": "text/x-python",
   "name": "python",
   "nbconvert_exporter": "python",
   "pygments_lexer": "ipython3",
   "version": "3.8.3"
  }
 },
 "nbformat": 4,
 "nbformat_minor": 5
}